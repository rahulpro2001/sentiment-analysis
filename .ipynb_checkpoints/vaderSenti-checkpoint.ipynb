{
 "cells": [
  {
   "cell_type": "code",
   "execution_count": 16,
   "metadata": {},
   "outputs": [],
   "source": [
    "import spacy\n",
    "from flask import Flask\n",
    "from vaderSentiment import vaderSentiment\n",
    "english = spacy.load(\"en_core_web_sm\")"
   ]
  },
  {
   "cell_type": "code",
   "execution_count": 17,
   "metadata": {},
   "outputs": [
    {
     "name": "stdout",
     "output_type": "stream",
     "text": [
      "Enter the statement: The product is excellent\n",
      "The statement you just entered is: \n",
      "55.2 % positive\n",
      "0.0 % negative\n",
      "44.800000000000004 % neutral\n",
      "OVERALL SENTIMENT:  Positive\n"
     ]
    }
   ],
   "source": [
    "result = english(input(\"Enter the statement: \"))\n",
    "sentences = [str(s) for s in result.sents]\n",
    "analyzer = vaderSentiment.SentimentIntensityAnalyzer()\n",
    "sentiment = [analyzer.polarity_scores(str(s)) for s in sentences]\n",
    "print(\"The statement you just entered is: \")\n",
    "print(sentiment[0]['pos']*100,'% positive')\n",
    "print(sentiment[0]['neg']*100,'% negative')\n",
    "print(sentiment[0]['neu']*100,'% neutral')\n",
    "\n",
    "if(sentiment[0]['compound'] >= 0.05) : \n",
    "    sent=\"Positive\" \n",
    "elif(sentiment[0]['compound'] <= - 0.05) : \n",
    "    sent=\"Negative\" \n",
    "else : \n",
    "    sent=\"Neutral\"\n",
    "print(\"OVERALL SENTIMENT: \",sent)"
   ]
  },
  {
   "cell_type": "code",
   "execution_count": null,
   "metadata": {},
   "outputs": [],
   "source": []
  }
 ],
 "metadata": {
  "kernelspec": {
   "display_name": "Python 3",
   "language": "python",
   "name": "python3"
  },
  "language_info": {
   "codemirror_mode": {
    "name": "ipython",
    "version": 3
   },
   "file_extension": ".py",
   "mimetype": "text/x-python",
   "name": "python",
   "nbconvert_exporter": "python",
   "pygments_lexer": "ipython3",
   "version": "3.7.7"
  }
 },
 "nbformat": 4,
 "nbformat_minor": 2
}
